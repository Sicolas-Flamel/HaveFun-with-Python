{
 "cells": [
  {
   "cell_type": "code",
   "execution_count": 1,
   "metadata": {},
   "outputs": [],
   "source": [
    "import pandas as pd"
   ]
  },
  {
   "cell_type": "code",
   "execution_count": 191,
   "metadata": {},
   "outputs": [],
   "source": [
    "now = pd.read_csv('jj_now.csv', engine = \"python\", encoding = 'utf-8',header = None)\n",
    "past = pd.read_csv('jj_past.csv', engine = \"python\", encoding = 'utf-8',header = None)\n",
    "rating = pd.read_csv('jj_rating.csv', engine = \"python\", encoding = 'utf-8',header = None)\n",
    "manager = pd.read_csv('manager.csv', engine = \"python\", encoding = 'utf-8',header = None)"
   ]
  },
  {
   "cell_type": "code",
   "execution_count": 192,
   "metadata": {},
   "outputs": [
    {
     "data": {
      "text/html": [
       "<div>\n",
       "<style scoped>\n",
       "    .dataframe tbody tr th:only-of-type {\n",
       "        vertical-align: middle;\n",
       "    }\n",
       "\n",
       "    .dataframe tbody tr th {\n",
       "        vertical-align: top;\n",
       "    }\n",
       "\n",
       "    .dataframe thead th {\n",
       "        text-align: right;\n",
       "    }\n",
       "</style>\n",
       "<table border=\"1\" class=\"dataframe\">\n",
       "  <thead>\n",
       "    <tr style=\"text-align: right;\">\n",
       "      <th></th>\n",
       "      <th>0</th>\n",
       "      <th>1</th>\n",
       "      <th>2</th>\n",
       "      <th>3</th>\n",
       "      <th>4</th>\n",
       "      <th>5</th>\n",
       "      <th>6</th>\n",
       "      <th>7</th>\n",
       "      <th>8</th>\n",
       "      <th>9</th>\n",
       "      <th>10</th>\n",
       "      <th>11</th>\n",
       "      <th>12</th>\n",
       "      <th>13</th>\n",
       "    </tr>\n",
       "  </thead>\n",
       "  <tbody>\n",
       "    <tr>\n",
       "      <th>0</th>\n",
       "      <td>30061686</td>\n",
       "      <td>6507</td>\n",
       "      <td>前海开源裕泽(FOF)</td>\n",
       "      <td>混合-FOF</td>\n",
       "      <td>0.22%</td>\n",
       "      <td>92.8251%</td>\n",
       "      <td>7.20%</td>\n",
       "      <td>87.2185%</td>\n",
       "      <td>12.09%</td>\n",
       "      <td>87.8229%</td>\n",
       "      <td>16.53%</td>\n",
       "      <td>93.7837%</td>\n",
       "      <td>7.63%</td>\n",
       "      <td>93.0437%</td>\n",
       "    </tr>\n",
       "    <tr>\n",
       "      <th>1</th>\n",
       "      <td>30061686</td>\n",
       "      <td>6507</td>\n",
       "      <td>前海开源裕泽(FOF)</td>\n",
       "      <td>混合-FOF</td>\n",
       "      <td>0.22%</td>\n",
       "      <td>92.8251%</td>\n",
       "      <td>7.20%</td>\n",
       "      <td>87.2185%</td>\n",
       "      <td>12.09%</td>\n",
       "      <td>87.8229%</td>\n",
       "      <td>16.53%</td>\n",
       "      <td>93.7837%</td>\n",
       "      <td>7.63%</td>\n",
       "      <td>93.0437%</td>\n",
       "    </tr>\n",
       "  </tbody>\n",
       "</table>\n",
       "</div>"
      ],
      "text/plain": [
       "         0     1            2       3      4         5      6         7   \\\n",
       "0  30061686  6507  前海开源裕泽(FOF)  混合-FOF  0.22%  92.8251%  7.20%  87.2185%   \n",
       "1  30061686  6507  前海开源裕泽(FOF)  混合-FOF  0.22%  92.8251%  7.20%  87.2185%   \n",
       "\n",
       "       8         9       10        11     12        13  \n",
       "0  12.09%  87.8229%  16.53%  93.7837%  7.63%  93.0437%  \n",
       "1  12.09%  87.8229%  16.53%  93.7837%  7.63%  93.0437%  "
      ]
     },
     "execution_count": 192,
     "metadata": {},
     "output_type": "execute_result"
    }
   ],
   "source": [
    "now.head(2)"
   ]
  },
  {
   "cell_type": "code",
   "execution_count": 193,
   "metadata": {},
   "outputs": [],
   "source": [
    "now.columns = ['manager_code','stock_code', 'stock_name', 'type', 'r3m','r3m_tl','r6m','r6m_tl',\n",
    "              'r1y','r1y_tl','r2y','r2y_tl','thisy','thisy_tl']#单位全去掉，然后这个就全弄成，百分比的数值。"
   ]
  },
  {
   "cell_type": "code",
   "execution_count": 194,
   "metadata": {},
   "outputs": [],
   "source": [
    "def conver(x):\n",
    "    x = str(x)\n",
    "    if x == '-':\n",
    "        return 0\n",
    "    elif x=='nan':\n",
    "        return 0\n",
    "    elif x == 'na':\n",
    "        return 0\n",
    "    else:\n",
    "        return float(str(x)[:-1])"
   ]
  },
  {
   "cell_type": "code",
   "execution_count": 195,
   "metadata": {},
   "outputs": [],
   "source": [
    "for i in range(4, len(now.columns)):\n",
    "    now.iloc[:,i] = now.iloc[:,i].apply(conver)"
   ]
  },
  {
   "cell_type": "code",
   "execution_count": 197,
   "metadata": {
    "scrolled": true
   },
   "outputs": [],
   "source": [
    "now.stock_code = now.stock_code.apply(lambda x: str(x).rjust(6,'0'))"
   ]
  },
  {
   "cell_type": "code",
   "execution_count": 230,
   "metadata": {},
   "outputs": [],
   "source": [
    "top_manager = now.sort_values(['thisy','r3m','r6m','r1y'],ascending=False).groupby(now.manager_code).mean().head(5).manager_code.to_list()"
   ]
  },
  {
   "cell_type": "code",
   "execution_count": 240,
   "metadata": {},
   "outputs": [],
   "source": [
    "top_name = []\n",
    "for i in top_manager:\n",
    "    top_name.append(manager[manager.iloc[:,1]==i].iloc[0,0])"
   ]
  },
  {
   "cell_type": "code",
   "execution_count": 241,
   "metadata": {},
   "outputs": [
    {
     "data": {
      "text/plain": [
       "['王旭巍', '魏东', '刘明', '徐荔蓉', '袁建军']"
      ]
     },
     "execution_count": 241,
     "metadata": {},
     "output_type": "execute_result"
    }
   ],
   "source": [
    "top_name"
   ]
  },
  {
   "cell_type": "code",
   "execution_count": 224,
   "metadata": {},
   "outputs": [
    {
     "data": {
      "text/plain": [
       "2095"
      ]
     },
     "execution_count": 224,
     "metadata": {},
     "output_type": "execute_result"
    }
   ],
   "source": [
    "len(manager[0].unique())      # 名字去重以后才 2095 人"
   ]
  },
  {
   "cell_type": "code",
   "execution_count": 226,
   "metadata": {},
   "outputs": [
    {
     "data": {
      "text/plain": [
       "2162"
      ]
     },
     "execution_count": 226,
     "metadata": {},
     "output_type": "execute_result"
    }
   ],
   "source": [
    "len(manager[1].unique())      # 编号去重后 2162 人"
   ]
  },
  {
   "cell_type": "code",
   "execution_count": 227,
   "metadata": {},
   "outputs": [
    {
     "data": {
      "text/plain": [
       "67"
      ]
     },
     "execution_count": 227,
     "metadata": {},
     "output_type": "execute_result"
    }
   ],
   "source": [
    "len(manager[1].unique())  - len(manager[0].unique())   # 67 人同名"
   ]
  },
  {
   "cell_type": "code",
   "execution_count": 242,
   "metadata": {},
   "outputs": [
    {
     "data": {
      "text/plain": [
       "[30036316, 30036321, 30036322, 30036328, 30036416]"
      ]
     },
     "execution_count": 242,
     "metadata": {},
     "output_type": "execute_result"
    }
   ],
   "source": [
    "top_manager"
   ]
  },
  {
   "cell_type": "code",
   "execution_count": 248,
   "metadata": {},
   "outputs": [],
   "source": [
    "top_code = []\n",
    "for i in top_manager:\n",
    "    top_code.append(now[now.manager_code==i].iloc[0,1])"
   ]
  },
  {
   "cell_type": "code",
   "execution_count": 249,
   "metadata": {},
   "outputs": [
    {
     "data": {
      "text/plain": [
       "['004602', '257020', '005359', '450001', '008169']"
      ]
     },
     "execution_count": 249,
     "metadata": {},
     "output_type": "execute_result"
    }
   ],
   "source": [
    "top_code# 结合支付宝的情况，买了  004602 和 450001 各10块钱，现在是12月29日。"
   ]
  },
  {
   "cell_type": "code",
   "execution_count": null,
   "metadata": {},
   "outputs": [],
   "source": []
  }
 ],
 "metadata": {
  "kernelspec": {
   "display_name": "Python 3",
   "language": "python",
   "name": "python3"
  },
  "language_info": {
   "codemirror_mode": {
    "name": "ipython",
    "version": 3
   },
   "file_extension": ".py",
   "mimetype": "text/x-python",
   "name": "python",
   "nbconvert_exporter": "python",
   "pygments_lexer": "ipython3",
   "version": "3.8.5"
  }
 },
 "nbformat": 4,
 "nbformat_minor": 4
}
